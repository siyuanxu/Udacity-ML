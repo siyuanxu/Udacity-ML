{
 "cells": [
  {
   "cell_type": "markdown",
   "metadata": {
    "deletable": true,
    "editable": true
   },
   "source": [
    "# Numpy & Pandas 101 for ML\n",
    "\n",
    "_A more detailed tutorail is hrojas-learn-pandas-ae349241f067. Can be found in my dropbox, machine learning folder_"
   ]
  },
  {
   "cell_type": "markdown",
   "metadata": {},
   "source": [
    " ## 1. A simple start for Numpy"
   ]
  },
  {
   "cell_type": "markdown",
   "metadata": {
    "deletable": true,
    "editable": true
   },
   "source": [
    "### Statistic operations\n",
    "Numpy has some buil-in functions for statistic operations like mean, mode and std (stands for standard deviation)."
   ]
  },
  {
   "cell_type": "code",
   "execution_count": 1,
   "metadata": {
    "collapsed": true,
    "deletable": true,
    "editable": true
   },
   "outputs": [],
   "source": [
    "import numpy as np\n",
    "\n",
    "numbers = [1,2,3,4,5]"
   ]
  },
  {
   "cell_type": "code",
   "execution_count": 2,
   "metadata": {
    "collapsed": false,
    "deletable": true,
    "editable": true
   },
   "outputs": [
    {
     "name": "stdout",
     "output_type": "stream",
     "text": [
      "3.0 3.0 1.41421356237\n"
     ]
    }
   ],
   "source": [
    "print np.mean(numbers), np.median(numbers), np.std(numbers)"
   ]
  },
  {
   "cell_type": "markdown",
   "metadata": {},
   "source": [
    "### Specify element type \n",
    "We can specify the type of data when creating or converting numpy arrays"
   ]
  },
  {
   "cell_type": "code",
   "execution_count": 3,
   "metadata": {
    "collapsed": false,
    "deletable": true,
    "editable": true
   },
   "outputs": [
    {
     "name": "stdout",
     "output_type": "stream",
     "text": [
      "[ 1.  2.  3.  4.  5.]\n",
      "[1 2 3 4 5]\n"
     ]
    }
   ],
   "source": [
    "print np.array(numbers, float)\n",
    "print np.array(numbers)"
   ]
  },
  {
   "cell_type": "markdown",
   "metadata": {},
   "source": [
    "### Convenient operations and calculations\n",
    "We can create 2 dimension Matrix, index and slice like Python lists. Moreover, numpy array has some convenience features for element operation and array/matrix operation."
   ]
  },
  {
   "cell_type": "code",
   "execution_count": 7,
   "metadata": {
    "collapsed": false
   },
   "outputs": [
    {
     "name": "stdout",
     "output_type": "stream",
     "text": [
      "[[1 2 3 4 5]\n",
      " [1 2 3 4 5]]\n",
      "[1 2 3 4 5] 2\n",
      "[[1 0 3 4 5]\n",
      " [0 0 0 0 0]]\n"
     ]
    }
   ],
   "source": [
    "ary_1 = np.array([numbers,numbers], int)\n",
    "print ary_1\n",
    "print ary_1[1][:], ary_1[1][1] # : cuts all the array \n",
    "ary_1[1] = 0\n",
    "ary_1[0][1] = 0\n",
    "print ary_1"
   ]
  },
  {
   "cell_type": "code",
   "execution_count": 20,
   "metadata": {
    "collapsed": false
   },
   "outputs": [
    {
     "name": "stdout",
     "output_type": "stream",
     "text": [
      "[[1 0 3 4 5]\n",
      " [0 0 0 0 0]] \n",
      "[[ 2  0  6  8 10]\n",
      " [ 0  0  0  0  0]] \n",
      "\n",
      "ary_1 + ary_2 =  [[ 3  0  9 12 15]\n",
      " [ 0  0  0  0  0]] \n",
      "\n",
      "ary_1 * ary_2 =  [[ 2  0 18 32 50]\n",
      " [ 0  0  0  0  0]] \n",
      "\n"
     ]
    }
   ],
   "source": [
    "ary_2 = ary_1*2\n",
    "print ary_1, '\\n', ary_2, '\\n'\n",
    "print 'ary_1 + ary_2 = ', ary_1 + ary_2, '\\n'\n",
    "print 'ary_1 * ary_2 = ', ary_1 * ary_2, '\\n'\n",
    "# * is element * element"
   ]
  },
  {
   "cell_type": "markdown",
   "metadata": {},
   "source": [
    "Also, statistic functions like mean and median are utilizable for array/matrix"
   ]
  },
  {
   "cell_type": "code",
   "execution_count": 25,
   "metadata": {
    "collapsed": false
   },
   "outputs": [
    {
     "name": "stdout",
     "output_type": "stream",
     "text": [
      "2.0 7.0\n",
      "[ 44.]\n"
     ]
    }
   ],
   "source": [
    "array_1 = np.array([1, 2, 3], float)\n",
    "array_2 = np.array([[6], [7], [8]], float)\n",
    "print np.mean(array_1),np.mean(array_2)\n",
    "print np.dot(array_1,array_2)"
   ]
  },
  {
   "cell_type": "markdown",
   "metadata": {},
   "source": [
    "## 2. A simple start for Pandas"
   ]
  },
  {
   "cell_type": "markdown",
   "metadata": {},
   "source": [
    "### Intro\n",
    "We store and reference datas with pandas __DataFrame__, a __DataFrame__ is a two dimensional __labeled__ data structure with columns which can be different types if necessary, like string, int, float and boolear. If we don't specify a value, it shows NaN"
   ]
  },
  {
   "cell_type": "markdown",
   "metadata": {},
   "source": [
    "### Create a  pandas data Series"
   ]
  },
  {
   "cell_type": "code",
   "execution_count": 44,
   "metadata": {
    "collapsed": false
   },
   "outputs": [
    {
     "name": "stdout",
     "output_type": "stream",
     "text": [
      "0           Dave\n",
      "1      Cheng-Han\n",
      "2        Udacity\n",
      "3             42\n",
      "4    -1789710578\n",
      "dtype: object\n"
     ]
    }
   ],
   "source": [
    "import pandas as pd\n",
    "\n",
    "s1 = pd.Series(['Dave', 'Cheng-Han', 'Udacity', 42, -1789710578])\n",
    "print s1"
   ]
  },
  {
   "cell_type": "markdown",
   "metadata": {},
   "source": [
    "Choose data with index"
   ]
  },
  {
   "cell_type": "code",
   "execution_count": 45,
   "metadata": {
    "collapsed": false
   },
   "outputs": [
    {
     "name": "stdout",
     "output_type": "stream",
     "text": [
      "Dave\n",
      "\n",
      "Instructor                 Dave\n",
      "Curriculum Manager    Cheng-Han\n",
      "Course Number               359\n",
      "dtype: object\n",
      "\n",
      "Cockroach    1\n",
      "Fish         2\n",
      "Mini Pig     3\n",
      "Puppy        4\n",
      "Kitten       5\n",
      "dtype: int64\n",
      "\n",
      "Cockroach    False\n",
      "Fish         False\n",
      "Mini Pig     False\n",
      "Puppy         True\n",
      "Kitten        True\n",
      "dtype: bool\n",
      "\n",
      "Puppy     4\n",
      "Kitten    5\n",
      "dtype: int64\n"
     ]
    }
   ],
   "source": [
    "s2 = pd.Series(['Dave', 'Cheng-Han', 359, 9001],\n",
    "                       index=['Instructor', 'Curriculum Manager',\n",
    "                              'Course Number', 'Power Level'])\n",
    "print s2['Instructor']\n",
    "print \"\"\n",
    "print s2[['Instructor', 'Curriculum Manager', 'Course Number']]\n",
    "print \"\"\n",
    "cuteness = pd.Series([1, 2, 3, 4, 5], index=['Cockroach', 'Fish', 'Mini Pig',\n",
    "                                             'Puppy', 'Kitten'])\n",
    "print cuteness\n",
    "print \"\"\n",
    "print cuteness > 3\n",
    "print \"\"\n",
    "print cuteness[cuteness > 3]"
   ]
  },
  {
   "cell_type": "markdown",
   "metadata": {},
   "source": [
    "### Create a pandas DataFrame"
   ]
  },
  {
   "cell_type": "code",
   "execution_count": 79,
   "metadata": {
    "collapsed": false
   },
   "outputs": [
    {
     "name": "stdout",
     "output_type": "stream",
     "text": [
      "   losses     team  wins  year\n",
      "0       5    Bears    11  2010\n",
      "1       8    Bears     8  2011\n",
      "2       6    Bears    10  2012\n",
      "3       1  Packers    15  2011\n",
      "4       5  Packers    11  2012\n",
      "5      10    Lions     6  2010\n",
      "6       6    Lions    10  2011\n",
      "7      12    Lions     4  2012\n",
      " \n",
      "losses     int64\n",
      "team      object\n",
      "wins       int64\n",
      "year       int64\n",
      "dtype: object\n",
      "\n",
      "          losses       wins         year\n",
      "count   8.000000   8.000000     8.000000\n",
      "mean    6.625000   9.375000  2011.125000\n",
      "std     3.377975   3.377975     0.834523\n",
      "min     1.000000   4.000000  2010.000000\n",
      "25%     5.000000   7.500000  2010.750000\n",
      "50%     6.000000  10.000000  2011.000000\n",
      "75%     8.500000  11.000000  2012.000000\n",
      "max    12.000000  15.000000  2012.000000\n",
      "\n",
      "   losses     team  wins  year\n",
      "0       5    Bears    11  2010\n",
      "1       8    Bears     8  2011\n",
      "2       6    Bears    10  2012\n",
      "3       1  Packers    15  2011\n",
      "4       5  Packers    11  2012\n",
      "\n",
      "   losses     team  wins  year\n",
      "3       1  Packers    15  2011\n",
      "4       5  Packers    11  2012\n",
      "5      10    Lions     6  2010\n",
      "6       6    Lions    10  2011\n",
      "7      12    Lions     4  2012\n"
     ]
    }
   ],
   "source": [
    "data = {'year': [2010, 2011, 2012, 2011, 2012, 2010, 2011, 2012],\n",
    "            'team': ['Bears', 'Bears', 'Bears', 'Packers', 'Packers', 'Lions',\n",
    "                     'Lions', 'Lions'],\n",
    "            'wins': [11, 8, 10, 15, 11, 6, 10, 4],\n",
    "            'losses': [5, 8, 6, 1, 5, 10, 6, 12]}\n",
    "football = pd.DataFrame(data)\n",
    "print football\n",
    "print ' '\n",
    "print football.dtypes\n",
    "print \"\"\n",
    "print football.describe() #useful for seeing basic statistics of the dataframe's numerical columns\n",
    "print \"\"\n",
    "print football.head() # first 5 rows\n",
    "print \"\"\n",
    "print football.tail() # last 5 rows"
   ]
  },
  {
   "cell_type": "markdown",
   "metadata": {},
   "source": [
    "### Access data in DataFrame"
   ]
  },
  {
   "cell_type": "code",
   "execution_count": 58,
   "metadata": {
    "collapsed": false
   },
   "outputs": [
    {
     "name": "stdout",
     "output_type": "stream",
     "text": [
      "      team  wins\n",
      "0    Bears    11\n",
      "1    Bears     8\n",
      "2    Bears    10\n",
      "3  Packers    15\n",
      "4  Packers    11\n",
      "5    Lions     6\n",
      "6    Lions    10\n",
      "7    Lions     4\n",
      " \n",
      "0      Bears\n",
      "1      Bears\n",
      "2      Bears\n",
      "3    Packers\n",
      "4    Packers\n",
      "5      Lions\n",
      "6      Lions\n",
      "7      Lions\n",
      "Name: team, dtype: object\n"
     ]
    }
   ],
   "source": [
    "print football[['team','wins']]\n",
    "# for single columns out, we can shorten the syntax\n",
    "print ' '\n",
    "print football.team"
   ]
  },
  {
   "cell_type": "markdown",
   "metadata": {},
   "source": [
    "Use the data index or default index number"
   ]
  },
  {
   "cell_type": "code",
   "execution_count": 54,
   "metadata": {
    "collapsed": false
   },
   "outputs": [
    {
     "data": {
      "text/plain": [
       "losses        8\n",
       "team      Bears\n",
       "wins          8\n",
       "year       2011\n",
       "Name: 1, dtype: object"
      ]
     },
     "execution_count": 54,
     "metadata": {},
     "output_type": "execute_result"
    }
   ],
   "source": [
    "football.loc[1]"
   ]
  },
  {
   "cell_type": "markdown",
   "metadata": {},
   "source": [
    "Call data with specified conditions"
   ]
  },
  {
   "cell_type": "code",
   "execution_count": 56,
   "metadata": {
    "collapsed": false
   },
   "outputs": [
    {
     "data": {
      "text/html": [
       "<div>\n",
       "<table border=\"1\" class=\"dataframe\">\n",
       "  <thead>\n",
       "    <tr style=\"text-align: right;\">\n",
       "      <th></th>\n",
       "      <th>team</th>\n",
       "      <th>wins</th>\n",
       "    </tr>\n",
       "  </thead>\n",
       "  <tbody>\n",
       "    <tr>\n",
       "      <th>0</th>\n",
       "      <td>Bears</td>\n",
       "      <td>11</td>\n",
       "    </tr>\n",
       "    <tr>\n",
       "      <th>2</th>\n",
       "      <td>Bears</td>\n",
       "      <td>10</td>\n",
       "    </tr>\n",
       "    <tr>\n",
       "      <th>3</th>\n",
       "      <td>Packers</td>\n",
       "      <td>15</td>\n",
       "    </tr>\n",
       "    <tr>\n",
       "      <th>4</th>\n",
       "      <td>Packers</td>\n",
       "      <td>11</td>\n",
       "    </tr>\n",
       "    <tr>\n",
       "      <th>6</th>\n",
       "      <td>Lions</td>\n",
       "      <td>10</td>\n",
       "    </tr>\n",
       "  </tbody>\n",
       "</table>\n",
       "</div>"
      ],
      "text/plain": [
       "      team  wins\n",
       "0    Bears    11\n",
       "2    Bears    10\n",
       "3  Packers    15\n",
       "4  Packers    11\n",
       "6    Lions    10"
      ]
     },
     "execution_count": 56,
     "metadata": {},
     "output_type": "execute_result"
    }
   ],
   "source": [
    "football[football['wins'] >= 10][['team','wins']]"
   ]
  },
  {
   "cell_type": "markdown",
   "metadata": {},
   "source": [
    "More actions can be done by different methods"
   ]
  },
  {
   "cell_type": "code",
   "execution_count": 80,
   "metadata": {
    "collapsed": false
   },
   "outputs": [
    {
     "name": "stdout",
     "output_type": "stream",
     "text": [
      "   losses     team  wins  year\n",
      "0       5    Bears    11  2010\n",
      "1       8    Bears     8  2011\n",
      "2       6    Bears    10  2012\n",
      "3       1  Packers    15  2011\n",
      "4       5  Packers    11  2012\n",
      "5      10    Lions     6  2010\n",
      "6       6    Lions    10  2011\n",
      "7      12    Lions     4  2012\n",
      " \n",
      "   losses   team  wins  year\n",
      "0       5  Bears    11  2010\n",
      "\n",
      "   losses   team  wins  year\n",
      "0       5  Bears    11  2010\n",
      "\n",
      "   losses     team  wins  year\n",
      "3       1  Packers    15  2011\n",
      "4       5  Packers    11  2012\n",
      "\n",
      "   losses     team  wins  year\n",
      "0       5    Bears    11  2010\n",
      "3       1  Packers    15  2011\n",
      "4       5  Packers    11  2012\n",
      "\n",
      "   losses     team  wins  year\n",
      "3       1  Packers    15  2011\n",
      "4       5  Packers    11  2012\n"
     ]
    }
   ],
   "source": [
    "print football\n",
    "print ' '\n",
    "print football.iloc[[0]] #iloc works on the positions in the index (so it only takes integers)\n",
    "print \"\"\n",
    "print football.loc[[0]] #loc works on labels in the index.\n",
    "\n",
    "print \"\"\n",
    "print football[3:5]\n",
    "print \"\"\n",
    "print football[football.wins > 10]\n",
    "print \"\"\n",
    "print football[(football.wins > 10) & (football.team == \"Packers\")] # and, or -- & |"
   ]
  },
  {
   "cell_type": "markdown",
   "metadata": {},
   "source": [
    "### Pandas Vectorized methods\n",
    "Consider a DataFrame as a matrix, vectorized methods are like matrix add\\time\\divid etc. "
   ]
  },
  {
   "cell_type": "code",
   "execution_count": 74,
   "metadata": {
    "collapsed": false
   },
   "outputs": [
    {
     "name": "stdout",
     "output_type": "stream",
     "text": [
      "one    3.0\n",
      "two    2.0\n",
      "dtype: float64\n",
      "a    False\n",
      "b     True\n",
      "c     True\n",
      "d     True\n",
      "e     True\n",
      "Name: one, dtype: bool\n",
      "     one    two\n",
      "a  False  False\n",
      "b   True   True\n",
      "c   True   True\n",
      "d   True  False\n",
      "e   True  False\n"
     ]
    }
   ],
   "source": [
    "d = {'one':pd.Series([1,2,3,4,5],index = ['a','b','c','d','e']),\n",
    "        'two':pd.Series([1,2,3],index = ['a','b','c'])}\n",
    "df = pd.DataFrame(d)\n",
    "\n",
    "print df.apply(np.mean)\n",
    "print df['one'].map(lambda x:x > 1)\n",
    "print df.applymap(lambda x:x > 1)"
   ]
  }
 ],
 "metadata": {
  "kernelspec": {
   "display_name": "Python 2",
   "language": "python",
   "name": "python2"
  },
  "language_info": {
   "codemirror_mode": {
    "name": "ipython",
    "version": 2
   },
   "file_extension": ".py",
   "mimetype": "text/x-python",
   "name": "python",
   "nbconvert_exporter": "python",
   "pygments_lexer": "ipython2",
   "version": "2.7.13"
  }
 },
 "nbformat": 4,
 "nbformat_minor": 2
}
